{
 "cells": [
  {
   "cell_type": "markdown",
   "metadata": {},
   "source": [
    "# ISD - Travail pratique 05 – Régression linéaire\n",
    "## Objectifs:\n",
    "- Appliquer l’algorithme de régression linéaire simple pour créer des modèles de régression\n",
    "- Utiliser la méthode de validation hold-out pour évaluer un modèle de régression\n",
    "- Utiliser les bibliothèques d’apprentissage automatique pour construire des modèles de régression multiple\n",
    "- Évaluer les modèles et analyser les résultats"
   ]
  }
 ],
 "metadata": {
  "interpreter": {
   "hash": "0c60c48a3e91908fe14912c71b62d9f56e53a58bdff537951b479087c423dd90"
  },
  "kernelspec": {
   "display_name": "Python 3.9.12 ('isd_env')",
   "language": "python",
   "name": "python3"
  },
  "language_info": {
   "name": "python",
   "version": "3.9.12"
  },
  "orig_nbformat": 4
 },
 "nbformat": 4,
 "nbformat_minor": 2
}
